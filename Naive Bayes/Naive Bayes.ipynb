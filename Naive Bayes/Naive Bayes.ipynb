{
 "cells": [
  {
   "cell_type": "code",
   "execution_count": 1,
   "metadata": {},
   "outputs": [
    {
     "name": "stdout",
     "output_type": "stream",
     "text": [
      "     alcohol  malic_acid   ash  alcalinity_of_ash  magnesium  total_phenols  \\\n",
      "0      14.23        1.71  2.43               15.6      127.0           2.80   \n",
      "1      13.20        1.78  2.14               11.2      100.0           2.65   \n",
      "2      13.16        2.36  2.67               18.6      101.0           2.80   \n",
      "3      14.37        1.95  2.50               16.8      113.0           3.85   \n",
      "4      13.24        2.59  2.87               21.0      118.0           2.80   \n",
      "..       ...         ...   ...                ...        ...            ...   \n",
      "173    13.71        5.65  2.45               20.5       95.0           1.68   \n",
      "174    13.40        3.91  2.48               23.0      102.0           1.80   \n",
      "175    13.27        4.28  2.26               20.0      120.0           1.59   \n",
      "176    13.17        2.59  2.37               20.0      120.0           1.65   \n",
      "177    14.13        4.10  2.74               24.5       96.0           2.05   \n",
      "\n",
      "     flavanoids  nonflavanoid_phenols  proanthocyanins  color_intensity   hue  \\\n",
      "0          3.06                  0.28             2.29             5.64  1.04   \n",
      "1          2.76                  0.26             1.28             4.38  1.05   \n",
      "2          3.24                  0.30             2.81             5.68  1.03   \n",
      "3          3.49                  0.24             2.18             7.80  0.86   \n",
      "4          2.69                  0.39             1.82             4.32  1.04   \n",
      "..          ...                   ...              ...              ...   ...   \n",
      "173        0.61                  0.52             1.06             7.70  0.64   \n",
      "174        0.75                  0.43             1.41             7.30  0.70   \n",
      "175        0.69                  0.43             1.35            10.20  0.59   \n",
      "176        0.68                  0.53             1.46             9.30  0.60   \n",
      "177        0.76                  0.56             1.35             9.20  0.61   \n",
      "\n",
      "     od280/od315_of_diluted_wines  proline  target  \n",
      "0                            3.92   1065.0     0.0  \n",
      "1                            3.40   1050.0     0.0  \n",
      "2                            3.17   1185.0     0.0  \n",
      "3                            3.45   1480.0     0.0  \n",
      "4                            2.93    735.0     0.0  \n",
      "..                            ...      ...     ...  \n",
      "173                          1.74    740.0     2.0  \n",
      "174                          1.56    750.0     2.0  \n",
      "175                          1.56    835.0     2.0  \n",
      "176                          1.62    840.0     2.0  \n",
      "177                          1.60    560.0     2.0  \n",
      "\n",
      "[178 rows x 14 columns]\n",
      "Training Accuracy: 0.9920\n",
      "Testing Accuracy: 0.9623\n"
     ]
    }
   ],
   "source": [
    "from sklearn.datasets import load_wine\n",
    "import numpy as np\n",
    "import pandas as pd \n",
    "\n",
    "wine = load_wine()\n",
    "df = pd.DataFrame(data=np.c_[wine['data'], wine['target']], columns=wine['feature_names'] + ['target'])\n",
    "print(df)\n",
    "\n",
    "train = df.sample(frac=0.7, random_state=1)\n",
    "test = df.drop(train.index)\n",
    "y_train = train[\"target\"]  # \"species\" with lowercase 's' is the correct column name\n",
    "x_train = train.drop(\"target\", axis=1)\n",
    "y_test = test[\"target\"]\n",
    "x_test = test.drop(\"target\", axis=1)\n",
    "\n",
    "means = train.groupby([\"target\"]).mean()\n",
    "var = train.groupby([\"target\"]).var()\n",
    "prior = (train.groupby(\"target\").count() / len(train)).iloc[:, 1]\n",
    "classes = np.unique(train[\"target\"].tolist())\n",
    "\n",
    "def Normal(n, mu, var):\n",
    "    sd = np.sqrt(var)\n",
    "    pdf = (np.e ** (-0.5 * ((n - mu) / sd) ** 2)) / (sd * np.sqrt(2 * np.pi))\n",
    "    return pdf\n",
    "\n",
    "def Predict(X):\n",
    "    Predictions = []\n",
    "    for i in X.index:\n",
    "        ClassLikelihood = []\n",
    "        instance = X.loc[i]\n",
    "        for cls in classes:\n",
    "            FeatureLikelihoods = []\n",
    "            FeatureLikelihoods.append(np.log(prior[cls]))\n",
    "            for col in x_train.columns:\n",
    "                data = instance[col]\n",
    "                mean = means[col].loc[cls]\n",
    "                variance = var[col].loc[cls]\n",
    "                Likelihood = Normal(data, mean, variance)\n",
    "                if Likelihood != 0:\n",
    "                    Likelihood = np.log(Likelihood)\n",
    "                else:\n",
    "                    Likelihood = 1 / len(train)\n",
    "                FeatureLikelihoods.append(Likelihood)\n",
    "            TotalLikelihood = sum(FeatureLikelihoods)\n",
    "            ClassLikelihood.append(TotalLikelihood)\n",
    "        MaxIndex = ClassLikelihood.index(max(ClassLikelihood))\n",
    "        Prediction = classes[MaxIndex]\n",
    "        Predictions.append(Prediction)\n",
    "    return Predictions\n",
    "\n",
    "def Accuracy(y, prediction):\n",
    "    y = list(y)\n",
    "    prediction = list(prediction)\n",
    "    score = 0\n",
    "    for i, j in zip(y, prediction):\n",
    "        if i == j:\n",
    "            score += 1\n",
    "    return score / len(y)\n",
    "\n",
    "PredictTrain = Predict(x_train)\n",
    "PredictTest = Predict(x_test)\n",
    "print('Training Accuracy: %.4f' % round(Accuracy(y_train, PredictTrain), 5))\n",
    "print('Testing Accuracy: %.4f' % round(Accuracy(y_test, PredictTest), 5))\n"
   ]
  },
  {
   "cell_type": "code",
   "execution_count": 3,
   "metadata": {},
   "outputs": [
    {
     "name": "stdout",
     "output_type": "stream",
     "text": [
      "Training Accuracy: 0.9920\n",
      "Testing Accuracy: 0.9811\n"
     ]
    }
   ],
   "source": [
    "from sklearn.naive_bayes import GaussianNB\n",
    "clf = GaussianNB()\n",
    "clf.fit(x_train, y_train)\n",
    "SkTrain = clf.predict(x_train) # Predicting on the train set\n",
    "SkTest = clf.predict(x_test) # Predicting on the test set\n",
    "print('Training Accuracy: %.4f' % round(Accuracy(y_train, SkTrain), 5))\n",
    "print('Testing Accuracy: %.4f' % round(Accuracy(y_test, SkTest), 5))"
   ]
  }
 ],
 "metadata": {
  "kernelspec": {
   "display_name": "Python_myenv_kernel",
   "language": "python",
   "name": "myenv"
  },
  "language_info": {
   "codemirror_mode": {
    "name": "ipython",
    "version": 3
   },
   "file_extension": ".py",
   "mimetype": "text/x-python",
   "name": "python",
   "nbconvert_exporter": "python",
   "pygments_lexer": "ipython3",
   "version": "3.11.5"
  }
 },
 "nbformat": 4,
 "nbformat_minor": 2
}

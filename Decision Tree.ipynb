{
 "cells": [
  {
   "cell_type": "markdown",
   "metadata": {},
   "source": [
    "Pemuatan dan Pembagian Data.\n"
   ]
  },
  {
   "cell_type": "code",
   "execution_count": 1,
   "metadata": {},
   "outputs": [
    {
     "name": "stdout",
     "output_type": "stream",
     "text": [
      "Training: 105\n",
      "Testing: 45\n"
     ]
    }
   ],
   "source": [
    "# Dataset Iris dimuat dari URL yang diberikan ke dalam DataFrame Pandas.\n",
    "# Fitur dan target variabel dipisahkan.\n",
    "# Dataset dibagi menjadi set pelatihan dan pengujian menggunakan train_test_split.\n",
    "\n",
    "import numpy as np\n",
    "import pandas as pd\n",
    "from sklearn.model_selection import train_test_split\n",
    "\n",
    "url = \"https://archive.ics.uci.edu/ml/machine-learning-databases/iris/iris.data\"\n",
    "names = ['sepal_length', 'sepal_width', 'petal_length', 'petal_width', 'class']\n",
    "df = pd.read_csv(url, header=None, names=names)\n",
    "\n",
    "X = df.drop('class', axis=1)\n",
    "y = df['class']\n",
    "\n",
    "X_train, X_test, y_train, y_test = train_test_split(X, y, test_size=0.3, random_state=42)\n",
    "X = df.iloc[:, :-1]\n",
    "y = df.iloc[:, -1]\n",
    "\n",
    "print(\"Training:\", len(X_train))\n",
    "print(\"Testing:\", len(X_test))"
   ]
  },
  {
   "cell_type": "markdown",
   "metadata": {},
   "source": [
    "Fungsi Gini Impurity dan Entropy"
   ]
  },
  {
   "cell_type": "code",
   "execution_count": 2,
   "metadata": {},
   "outputs": [],
   "source": [
    "# Dua fungsi, gini_impurity dan entropy, didefinisikan untuk menghitung kriteria pemilihan atribut pada set data\n",
    "\n",
    "def gini_impurity(y):\n",
    "    counts = np.unique(y, return_counts=True)[1]\n",
    "    p = counts / len(y)\n",
    "    return 1 - np.sum(p**2)\n",
    "\n",
    "def entropy(y):\n",
    "    counts = np.unique(y, return_counts=True)\n",
    "    p = counts[1] / len(y)\n",
    "    return -np.sum(p * np.log2(p))"
   ]
  },
  {
   "cell_type": "markdown",
   "metadata": {},
   "source": [
    "Fungsi Pemilihan Atribut dan Konstruksi Decision Tree"
   ]
  },
  {
   "cell_type": "code",
   "execution_count": 3,
   "metadata": {},
   "outputs": [],
   "source": [
    "# Fungsi choose_attribute memilih atribut terbaik berdasarkan nilai entropy.\n",
    "# Fungsi-fungsi create_internal_node, create_leaf_node, dan build_decision_tree digunakan untuk membangun pohon keputusan.\n",
    "\n",
    "def choose_attribute(X, y):\n",
    "    entropy_values = []\n",
    "    for i in range(X.shape[1]):\n",
    "        entropy_values.append(entropy(y[X.iloc[:, i] == 1]) + entropy(y[X.iloc[:, i] == 0]))\n",
    "    return np.argmax(entropy_values)\n",
    "\n",
    "def create_internal_node(X, y, attribute):\n",
    "    return {\n",
    "        \"attribute\": attribute,\n",
    "        \"value\": X.iloc[:, attribute].mean(),\n",
    "        \"left\": None,\n",
    "        \"right\": None,\n",
    "    }\n",
    "\n",
    "def create_leaf_node(y):\n",
    "    return {\n",
    "        \"label\": y.mode()[0],\n",
    "    }\n",
    "\n",
    "def build_decision_tree(X, y):\n",
    "    if len(np.unique(y)) == 1:\n",
    "        return create_leaf_node(y)\n",
    "\n",
    "    if X.shape[0] == 0:\n",
    "        return create_leaf_node(y)\n",
    "\n",
    "    attribute = choose_attribute(X, y)\n",
    "\n",
    "    if attribute is None:\n",
    "        return create_leaf_node(y)\n",
    "\n",
    "    node = create_internal_node(X, y, attribute)\n",
    "\n",
    "    X_left = X[X.iloc[:, attribute] <= node[\"value\"]]\n",
    "    X_right = X[X.iloc[:, attribute] > node[\"value\"]]\n",
    "    y_left = y[X.iloc[:, attribute] <= node[\"value\"]]\n",
    "    y_right = y[X.iloc[:, attribute] > node[\"value\"]]\n",
    "\n",
    "    if len(X_left) == 0 or len(X_right) == 0:\n",
    "        return create_leaf_node(y)\n",
    "\n",
    "    node[\"left\"] = build_decision_tree(X_left, y_left)\n",
    "    node[\"right\"] = build_decision_tree(X_right, y_right)\n",
    "\n",
    "    return node\n",
    "\n",
    "\n"
   ]
  },
  {
   "cell_type": "markdown",
   "metadata": {},
   "source": [
    "Fungsi Print Decision Tree"
   ]
  },
  {
   "cell_type": "code",
   "execution_count": 4,
   "metadata": {},
   "outputs": [
    {
     "name": "stdout",
     "output_type": "stream",
     "text": [
      "{'attribute': 0, 'value': 5.843333333333334, 'left': {'attribute': 0, 'value': 5.1987499999999995, 'left': {'attribute': 0, 'value': 4.85609756097561, 'left': {'children': []}, 'right': {'attribute': 0, 'value': 5.0120000000000005, 'left': {'attribute': 0, 'value': 4.9625, 'left': {'children': []}, 'right': {'children': []}}, 'right': {'children': []}}}, 'right': {'attribute': 0, 'value': 5.558974358974359, 'left': {'attribute': 0, 'value': 5.388888888888889, 'left': {'attribute': 0, 'value': 5.220000000000001, 'left': {'children': []}, 'right': {'children': []}}, 'right': {'attribute': 0, 'value': 5.453846153846154, 'left': {'children': []}, 'right': {'children': []}}}, 'right': {'attribute': 0, 'value': 5.704761904761904, 'left': {'attribute': 0, 'value': 5.6571428571428575, 'left': {'children': []}, 'right': {'children': []}}, 'right': {'children': []}}}}, 'right': {'attribute': 0, 'value': 6.579999999999998, 'left': {'attribute': 0, 'value': 6.227500000000001, 'left': {'attribute': 0, 'value': 6.057894736842106, 'left': {'attribute': 0, 'value': 5.966666666666666, 'left': {'children': []}, 'right': {'children': []}}, 'right': {'attribute': 0, 'value': 6.140000000000001, 'left': {'children': []}, 'right': {'children': []}}}, 'right': {'attribute': 0, 'value': 6.380952380952381, 'left': {'children': []}, 'right': {'attribute': 0, 'value': 6.441666666666667, 'left': {'children': []}, 'right': {'children': []}}}}, 'right': {'attribute': 0, 'value': 7.05, 'left': {'attribute': 0, 'value': 6.7666666666666675, 'left': {'attribute': 0, 'value': 6.6800000000000015, 'left': {'children': []}, 'right': {'children': []}}, 'right': {'attribute': 0, 'value': 6.875, 'left': {'children': []}, 'right': {'attribute': 0, 'value': 6.92, 'left': {'children': []}, 'right': {'children': []}}}}, 'right': {'children': []}}}}\n"
     ]
    }
   ],
   "source": [
    "# Fungsi print_decision_tree menghasilkan representasi yang mudah dibaca dari pohon keputusan dalam bentuk nested dictionary.\n",
    "\n",
    "def print_decision_tree(node):\n",
    "    if \"label\" in node:\n",
    "        return {\"children\": []}\n",
    "    else:\n",
    "        return {\n",
    "            \"attribute\": node[\"attribute\"],\n",
    "            \"value\": node[\"value\"],\n",
    "            \"left\": print_decision_tree(node[\"left\"]),\n",
    "            \"right\": print_decision_tree(node[\"right\"]),\n",
    "        }\n",
    "\n",
    "tree = build_decision_tree(X, y)\n",
    "\n",
    "formatted_tree = print_decision_tree(tree)\n",
    "print(formatted_tree)\n"
   ]
  },
  {
   "cell_type": "markdown",
   "metadata": {},
   "source": [
    "Pengujian Model dan Confusion Matrix"
   ]
  },
  {
   "cell_type": "code",
   "execution_count": 5,
   "metadata": {},
   "outputs": [
    {
     "name": "stdout",
     "output_type": "stream",
     "text": [
      "Prediction:  ['Iris-versicolor', 'Iris-versicolor', 'Iris-virginica', 'Iris-versicolor', 'Iris-virginica', 'Iris-setosa', 'Iris-versicolor', 'Iris-virginica', 'Iris-versicolor', 'Iris-versicolor', 'Iris-virginica', 'Iris-setosa', 'Iris-versicolor', 'Iris-setosa', 'Iris-setosa', 'Iris-virginica', 'Iris-virginica', 'Iris-versicolor', 'Iris-versicolor', 'Iris-virginica', 'Iris-setosa', 'Iris-versicolor', 'Iris-setosa', 'Iris-virginica', 'Iris-virginica', 'Iris-virginica', 'Iris-virginica', 'Iris-virginica', 'Iris-setosa', 'Iris-setosa']\n",
      "Real Values:  ['Iris-versicolor' 'Iris-setosa' 'Iris-virginica' 'Iris-versicolor'\n",
      " 'Iris-versicolor' 'Iris-setosa' 'Iris-versicolor' 'Iris-virginica'\n",
      " 'Iris-versicolor' 'Iris-versicolor' 'Iris-virginica' 'Iris-setosa'\n",
      " 'Iris-setosa' 'Iris-setosa' 'Iris-setosa' 'Iris-versicolor'\n",
      " 'Iris-virginica' 'Iris-versicolor' 'Iris-versicolor' 'Iris-virginica'\n",
      " 'Iris-setosa' 'Iris-virginica' 'Iris-setosa' 'Iris-virginica'\n",
      " 'Iris-virginica' 'Iris-virginica' 'Iris-virginica' 'Iris-virginica'\n",
      " 'Iris-setosa' 'Iris-setosa']\n"
     ]
    },
    {
     "name": "stderr",
     "output_type": "stream",
     "text": [
      "C:\\Users\\tay\\AppData\\Local\\Temp\\ipykernel_29400\\1001758609.py:7: FutureWarning: Series.__getitem__ treating keys as positions is deprecated. In a future version, integer keys will always be treated as labels (consistent with DataFrame behavior). To access a value by position, use `ser.iloc[pos]`\n",
      "  if x[node[\"attribute\"]] <= node[\"value\"]:\n"
     ]
    }
   ],
   "source": [
    "# Model diuji pada subset data uji yang diambil secara acak.\n",
    "# Hasil prediksi dan nilai sebenarnya dicetak, dan confusion matrix dihitung.\n",
    "\n",
    "def predict_tree(node, x):\n",
    "    if \"label\" in node:\n",
    "        return node[\"label\"]\n",
    "    if x[node[\"attribute\"]] <= node[\"value\"]:\n",
    "        return predict_tree(node[\"left\"], x)\n",
    "    else:\n",
    "        return predict_tree(node[\"right\"], x)\n",
    "\n",
    "X_test = df.sample(frac=0.2, random_state=42)  \n",
    "y_test = X_test['class']\n",
    "X_test = X_test.drop('class', axis=1)\n",
    "predictions = [predict_tree(tree, x) for index, x in X_test.iterrows()]\n",
    "\n",
    "print(\"Prediction: \", predictions)\n",
    "print(\"Real Values: \", y_test.values)\n"
   ]
  },
  {
   "cell_type": "markdown",
   "metadata": {},
   "source": [
    "Fungsi Confusion Matrix dan Pengukuran Kinerja"
   ]
  },
  {
   "cell_type": "code",
   "execution_count": 6,
   "metadata": {},
   "outputs": [
    {
     "name": "stdout",
     "output_type": "stream",
     "text": [
      "--------Confusion Matrix--------\n",
      "[[ 8  2  0]\n",
      " [ 0  7  2]\n",
      " [ 0  1 10]]\n",
      "--------Iris-setosa--------\n",
      "Accuracy: 0.93\n",
      "Precision: 1.00\n",
      "Recall (Sensitivity): 0.80\n",
      "Specificity: 1.00\n",
      "--------Iris-versicolor--------\n",
      "Accuracy: 0.83\n",
      "Precision: 0.70\n",
      "Recall (Sensitivity): 0.78\n",
      "Specificity: 0.86\n",
      "--------Iris-virginica--------\n",
      "Accuracy: 0.90\n",
      "Precision: 0.83\n",
      "Recall (Sensitivity): 0.91\n",
      "Specificity: 0.89\n",
      "--------Overall Metrics (Macro-average)--------\n",
      "Accuracy: 0.89\n",
      "Precision: 0.84\n",
      "Recall (Sensitivity): 0.83\n",
      "Specificity: 0.92\n"
     ]
    }
   ],
   "source": [
    "# Fungsi create_confusion_matrix membuat confusion matrix dari hasil prediksi dan nilai sebenarnya.\n",
    "# Fungsi calculate_metrics menghitung metrik kinerja seperti akurasi, presisi, sensitivitas, dan spesifisitas\n",
    "\n",
    "def create_confusion_matrix(true_labels, predicted_labels, classes):\n",
    "    confusion_matrix = np.zeros((len(classes), len(classes)), dtype=int)\n",
    "    for true, pred in zip(true_labels, predicted_labels):\n",
    "        true_idx = np.where(classes == true)[0][0]\n",
    "        pred_idx = np.where(classes == pred)[0][0]\n",
    "        confusion_matrix[true_idx][pred_idx] += 1\n",
    "    return confusion_matrix\n",
    "\n",
    "classes = np.unique(y_test)\n",
    "confusion_matrix = create_confusion_matrix(y_test.values, predictions, classes)\n",
    "\n",
    "print(\"--------Confusion Matrix--------\")\n",
    "print(confusion_matrix)\n",
    "\n",
    "\n",
    "# akurasi, presisi, sensitivitas, dan spesifitas\n",
    "def calculate_metrics(confusion_matrix):\n",
    "    true_positive = confusion_matrix.diagonal()\n",
    "    false_positive = confusion_matrix.sum(axis=0) - true_positive\n",
    "    false_negative = confusion_matrix.sum(axis=1) - true_positive\n",
    "    true_negative = confusion_matrix.sum() - (true_positive + false_positive + false_negative)\n",
    "\n",
    "    accuracy = (true_positive + true_negative) / confusion_matrix.sum()\n",
    "    precision = true_positive / (true_positive + false_positive)\n",
    "    recall = true_positive / (true_positive + false_negative)\n",
    "    specificity = true_negative / (true_negative + false_positive)\n",
    "\n",
    "    return accuracy, precision, recall, specificity\n",
    "\n",
    "accuracy, precision, recall, specificity = calculate_metrics(confusion_matrix)\n",
    "\n",
    "for i, class_name in enumerate(classes):\n",
    "    print(f\"--------{class_name}--------\")\n",
    "    print(f\"Accuracy: {accuracy[i]:.2f}\")\n",
    "    print(f\"Precision: {precision[i]:.2f}\")\n",
    "    print(f\"Recall (Sensitivity): {recall[i]:.2f}\")\n",
    "    print(f\"Specificity: {specificity[i]:.2f}\")\n",
    "\n",
    "# Overall metrics (macro-average)\n",
    "print(\"--------Overall Metrics (Macro-average)--------\")\n",
    "print(f\"Accuracy: {np.mean(accuracy):.2f}\")\n",
    "print(f\"Precision: {np.mean(precision):.2f}\")\n",
    "print(f\"Recall (Sensitivity): {np.mean(recall):.2f}\")\n",
    "print(f\"Specificity: {np.mean(specificity):.2f}\")\n"
   ]
  }
 ],
 "metadata": {
  "kernelspec": {
   "display_name": "Python_myenv_kernel",
   "language": "python",
   "name": "myenv"
  },
  "language_info": {
   "codemirror_mode": {
    "name": "ipython",
    "version": 3
   },
   "file_extension": ".py",
   "mimetype": "text/x-python",
   "name": "python",
   "nbconvert_exporter": "python",
   "pygments_lexer": "ipython3",
   "version": "3.11.5"
  }
 },
 "nbformat": 4,
 "nbformat_minor": 2
}

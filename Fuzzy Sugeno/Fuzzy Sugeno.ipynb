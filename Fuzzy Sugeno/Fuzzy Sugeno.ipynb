{
 "cells": [
  {
   "cell_type": "code",
   "execution_count": 1,
   "metadata": {},
   "outputs": [
    {
     "name": "stdout",
     "output_type": "stream",
     "text": [
      "Produksi kain tenun ABC : 371 Biji\n"
     ]
    }
   ],
   "source": [
    "import numpy as np\n",
    "\n",
    "current_cost = 6000000 \n",
    "current_demand = 320\n",
    "current_stock = 60 \n",
    "\n",
    "cost_low = [0, 900000, 16600000]\n",
    "cost_high = [900000, 16600000, 166000000]\n",
    "\n",
    "demand_low = [0, 50, 485]\n",
    "demand_high = [50, 485, 4850]\n",
    "\n",
    "stock_low = [0, 5, 230]\n",
    "stock_high = [5, 230, 230]\n",
    "\n",
    "def fuzzy_membership(value, low, high, epsilon=1e-10):\n",
    "    return [\n",
    "        max(0, min((value - low[0]) / max((low[1] - low[0]), epsilon), (low[2] - value) / max((low[2] - low[1]), epsilon))),\n",
    "        max(0, min((value - high[0]) / max((high[1] - high[0]), epsilon), (high[2] - value) / max((high[2] - high[1]), epsilon)))\n",
    "    ]\n",
    "\n",
    "cost_membership = fuzzy_membership(current_cost, cost_low, cost_high)\n",
    "demand_membership = fuzzy_membership(current_demand, demand_low, demand_high)\n",
    "stock_membership = fuzzy_membership(current_stock, stock_low, stock_high)\n",
    "\n",
    "rules = [\n",
    "    (stock_membership[0], cost_membership[0], demand_membership[0], lambda x, y, z: z),\n",
    "    (stock_membership[1], cost_membership[0], demand_membership[0], lambda x, y, z: (z - x + 150)), \n",
    "    (stock_membership[1], cost_membership[0], demand_membership[1], lambda x, y, z: (1.25 * z - x)),  \n",
    "    (stock_membership[1], cost_membership[1], demand_membership[1], lambda x, y, z: z + 200), \n",
    "]\n",
    "\n",
    "numerator = sum(weight * rule(current_stock, current_cost, current_demand) for weight, _, _, rule in rules)\n",
    "denominator = sum(weight for weight, _, _, _ in rules)\n",
    "\n",
    "if denominator != 0:\n",
    "    result = numerator / (denominator + 1e-10) \n",
    "else:\n",
    "    result = 0 \n",
    "\n",
    "result = round(result)\n",
    "\n",
    "print(\"Produksi kain tenun ABC :\", result, \"Biji\")\n",
    "\n",
    "\n",
    "\n"
   ]
  },
  {
   "cell_type": "code",
   "execution_count": 2,
   "metadata": {},
   "outputs": [
    {
     "name": "stdout",
     "output_type": "stream",
     "text": [
      "Rule 1 Result: 320, Weight: 0.7555555555555555, Numerator: 794.0, Denominator: 2.2444444444444445\n",
      "Rule 2 Result: 410, Weight: 0.24444444444444444, Numerator: 894.2222222222222, Denominator: 2.488888888888889\n",
      "Rule 3 Result: 340.0, Weight: 0.24444444444444444, Numerator: 977.3333333333333, Denominator: 2.7333333333333334\n",
      "Rule 4 Result: 520, Weight: 0.24444444444444444, Numerator: 1104.4444444444443, Denominator: 2.977777777777778\n"
     ]
    }
   ],
   "source": [
    "for i, (weight, _, _, rule) in enumerate(rules, start=1):\n",
    "    rule_result = rule(current_stock, current_cost, current_demand)\n",
    "    numerator += weight * rule_result\n",
    "    denominator += weight\n",
    "    print(f\"Rule {i} Result: {rule_result}, Weight: {weight}, Numerator: {numerator}, Denominator: {denominator}\")\n"
   ]
  }
 ],
 "metadata": {
  "kernelspec": {
   "display_name": "Python_myenv_kernel",
   "language": "python",
   "name": "myenv"
  },
  "language_info": {
   "codemirror_mode": {
    "name": "ipython",
    "version": 3
   },
   "file_extension": ".py",
   "mimetype": "text/x-python",
   "name": "python",
   "nbconvert_exporter": "python",
   "pygments_lexer": "ipython3",
   "version": "3.11.5"
  }
 },
 "nbformat": 4,
 "nbformat_minor": 2
}
